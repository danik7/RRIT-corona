{
 "cells": [
  {
   "cell_type": "code",
   "execution_count": 2,
   "metadata": {},
   "outputs": [],
   "source": [
    "import cv2"
   ]
  },
  {
   "cell_type": "code",
   "execution_count": null,
   "metadata": {},
   "outputs": [],
   "source": []
  },
  {
   "cell_type": "code",
   "execution_count": 7,
   "metadata": {},
   "outputs": [
    {
     "name": "stdout",
     "output_type": "stream",
     "text": [
      "Video Width:  848 px\n",
      "Video Height:  480 px\n",
      "Video FPS:  29.978380975258226 frames per second\n",
      "Video Length:  20.815 s\n"
     ]
    }
   ],
   "source": [
    "# video general info\n",
    "video = cv2.VideoCapture('./WhatsApp Video 2020-04-17 at 16.16.05.mp4')\n",
    "ret, frame = video.read()\n",
    "width = int(video.get(3))\n",
    "height = int(video.get(4))\n",
    "fps = video.get(5)\n",
    "length = int(video.get(7))/fps\n",
    "print('Video Width: ', width, 'px')\n",
    "print('Video Height: ', height, 'px')\n",
    "print('Video FPS: ', fps, 'frames per second')\n",
    "print('Video Length: ', length, 's')"
   ]
  },
  {
   "cell_type": "code",
   "execution_count": 8,
   "metadata": {},
   "outputs": [],
   "source": [
    "#returns whether or not the method was successful, and the average color value for RGB\n",
    "#for an individual frame\n",
    "def readFrame():\n",
    "    hasFrame, frame = video.read();\n",
    "    if not hasFrame:\n",
    "        return False, 0, 0, 0\n",
    "    totalRed = 0\n",
    "    totalGreen = 0\n",
    "    totalBlue = 0\n",
    "    for col in range(0, width):\n",
    "        # adds up all of the color values for each pixel in the frame\n",
    "        # returns average value per pixel\n",
    "        for row in range(0, height):\n",
    "            totalRed += frame[row][col][2]\n",
    "            totalGreen += frame[row][col][1]\n",
    "            totalBlue += frame[row][col][0]\n",
    "    return True, totalRed/1.0/width/height, totalGreen/1.0/width/height, totalBlue/1.0/width/height"
   ]
  },
  {
   "cell_type": "code",
   "execution_count": null,
   "metadata": {},
   "outputs": [],
   "source": []
  }
 ],
 "metadata": {
  "kernelspec": {
   "display_name": "Python 3",
   "language": "python",
   "name": "python3"
  },
  "language_info": {
   "codemirror_mode": {
    "name": "ipython",
    "version": 3
   },
   "file_extension": ".py",
   "mimetype": "text/x-python",
   "name": "python",
   "nbconvert_exporter": "python",
   "pygments_lexer": "ipython3",
   "version": "3.7.0"
  }
 },
 "nbformat": 4,
 "nbformat_minor": 2
}
